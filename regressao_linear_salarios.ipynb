{
  "nbformat": 4,
  "nbformat_minor": 0,
  "metadata": {
    "colab": {
      "name": "Untitled1.ipynb",
      "version": "0.3.2",
      "provenance": [],
      "include_colab_link": true
    },
    "kernelspec": {
      "name": "python2",
      "display_name": "Python 2"
    }
  },
  "cells": [
    {
      "cell_type": "markdown",
      "metadata": {
        "id": "view-in-github",
        "colab_type": "text"
      },
      "source": [
        "[View in Colaboratory](https://colab.research.google.com/github/paulocodigos/ufrn_topicos_avancados/blob/master/regressao_linear_salarios.ipynb)"
      ]
    },
    {
      "metadata": {
        "id": "DiAJohXek1_y",
        "colab_type": "code",
        "colab": {}
      },
      "cell_type": "code",
      "source": [
        "import os\n",
        "import tarfile\n",
        "from six.moves import urllib\n",
        "\n",
        "FILE_TO_DOWNLOAD =  \"Salary_Data.csv\"\n",
        "DOWNLOAD_ROOT = \"https://github.com/ect-info/ml/raw/master/\"\n",
        "DATA_PATH = \"dados/\"\n",
        "DATA_URL = DOWNLOAD_ROOT + DATA_PATH + FILE_TO_DOWNLOAD\n",
        "\n",
        "def fetch_data(data_url=DATA_URL, data_path=DATA_PATH, file_to_download=FILE_TO_DOWNLOAD):\n",
        "  if not os.path.isdir(data_path):\n",
        "    os.makedirs(data_path)\n",
        "  urllib.request.urlretrieve(data_url, data_path+\"Salary_Data.csv\")\n",
        "  \n",
        "  \n",
        "fetch_data()\n",
        "\n",
        "# observando se o diretório datasets foi criado com sucesso \n",
        "!ls dados\n",
        "\n",
        "import pandas as pd\n",
        "\n",
        "def load_data(data_path=DATA_PATH, file_to_download=FILE_TO_DOWNLOAD):\n",
        "  csv_path = os.path.join(data_path,file_to_download)\n",
        "  return pd.read_csv(csv_path)\n",
        "\n",
        "salary_data = load_data()\n",
        "\n",
        "# salary_data.head()\n",
        "\n",
        "# Separando os dados para a variável independente e para variável dependete \n",
        "X = salary_data.iloc[:,:-1].values\n",
        "y = salary_data.iloc[:, 1].values\n",
        "\n",
        "# salary_data.describe()\n",
        "\n",
        "\n",
        "# Split the data into training/testing sets\n",
        "    dados_X_train = dados_X[:-10]\n",
        "    dados_X_test = dados_X[-10:]\n",
        "\n",
        " # Split the targets into training/testing sets\n",
        "    dados_y_train = dados_Y[:-10]\n",
        "    dados_y_test = dados_Y[-10:]\n",
        "\n",
        " # Create linear regression object\n",
        "    regr = linear_model.LinearRegression()\n",
        "\n",
        " # Train the model using the training sets\n",
        "    regr.fit(dados_X_train, dados_y_train)\n",
        "\n",
        " # Make predictions using the testing set\n",
        "    dados_y_pred = regr.predict(dados_X_test)\n",
        "  \n",
        "  \n",
        "  \n",
        "   # The coefficients\n",
        "    print('Coefficients: \\n', regr.coef_)\n",
        "    # The mean squared error\n",
        "    print(\"Mean squared error: %.2f\"\n",
        "          % mean_squared_error(dados_y_test, dados_y_pred))\n",
        "    # Explained variance score: 1 is perfect prediction\n",
        "    print('Variance score: %.2f' % r2_score(dados_y_test, dados_y_pred))\n",
        "\n",
        "    # Plot outputs\n",
        "    plt.scatter(dados_X_test, dados_y_test,  color='black')\n",
        "    plt.plot(dados_X_test, dados_y_pred, color='blue', linewidth=3)\n",
        "\n"
      ],
      "execution_count": 0,
      "outputs": []
    }
  ]
}